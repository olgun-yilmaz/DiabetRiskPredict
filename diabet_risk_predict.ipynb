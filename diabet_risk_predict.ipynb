{
 "cells": [
  {
   "cell_type": "code",
   "id": "initial_id",
   "metadata": {
    "collapsed": true
   },
   "source": [
    "# import libraries\n",
    "import os\n",
    "\n",
    "import pandas as pd\n",
    "import numpy as np\n",
    "from matplotlib import pyplot as plt\n",
    "import seaborn as sns\n",
    "\n",
    "from sklearn.preprocessing import StandardScaler # veri normalizasyonu\n",
    "\n",
    "from sklearn.model_selection import (train_test_split, # veri setini eğitim ve test olarak ayırmak\n",
    "                                     KFold, # çapraz doğrulama ile performans değerlendirmesi\n",
    "                                     cross_val_score, # KFold ile yapılan süreci basitleştirir \n",
    "                                     GridSearchCV)  # modelin hiperparametrelerini optimize etme\n",
    "\n",
    "from sklearn.metrics import (classification_report, # modelin sınıflandırma başarısını değerlendirme\n",
    "                             confusion_matrix, # model sınıflandırma başarısının görsel analizi\n",
    "                             accuracy_score) # modelin doğruluğunun hesaplanması\n",
    "\n",
    "from sklearn.linear_model import LogisticRegression # ikili sınıfandırma\n",
    "from sklearn.tree import DecisionTreeClassifier # karar ağacı ile sınıflandırma\n",
    "from sklearn.neighbors import KNeighborsClassifier # en yakın komşuyla sınıflandırma\n",
    "from sklearn.naive_bayes import GaussianNB # Naives Bayes ile sınıflandırma\n",
    "from sklearn.svm import SVC # SVM ile sınıflandırma\n",
    "\n",
    "from sklearn.ensemble import AdaBoostClassifier, GradientBoostingClassifier, RandomForestClassifier \n",
    "\n",
    "import warnings\n",
    "warnings.filterwarnings('ignore')"
   ],
   "outputs": [],
   "execution_count": null
  },
  {
   "metadata": {},
   "cell_type": "code",
   "source": [
    "# import data and EDA\n",
    "os.chdir('res')"
   ],
   "id": "e05e9f8594f54fa7",
   "outputs": [],
   "execution_count": null
  },
  {
   "metadata": {},
   "cell_type": "code",
   "source": [
    "# loading data\n",
    "df = pd.read_csv(\"diabetes.csv\")\n",
    "df_name = df.columns"
   ],
   "id": "1369faab5eb0ceff",
   "outputs": [],
   "execution_count": null
  },
  {
   "metadata": {},
   "cell_type": "code",
   "source": [
    "# column names -> upper_case & lower_case - spaces - eng chars\n",
    "# num_sample and lost data\n",
    "# data types\n",
    "df.info()"
   ],
   "id": "c779e80c74a33d76",
   "outputs": [],
   "execution_count": null
  },
  {
   "metadata": {},
   "cell_type": "code",
   "source": "df.describe()",
   "id": "c34f95bc1244be35",
   "outputs": [],
   "execution_count": null
  },
  {
   "metadata": {},
   "cell_type": "code",
   "source": "sns.pairplot(df, hue='Outcome')",
   "id": "8c02ba01e72ed4af",
   "outputs": [],
   "execution_count": null
  },
  {
   "metadata": {},
   "cell_type": "code",
   "source": [
    "# if abs(correlation) >= .8 \n",
    "def plot_correlation_heatmap(dataframe = df):\n",
    "    corr_matrix = dataframe.corr() # correlation of each column\n",
    "    plt.figure(figsize=(10, 8))\n",
    "    sns.heatmap(corr_matrix, annot=True, fmt = \".2f\", linewidths=.5, cmap=\"coolwarm\")\n",
    "    plt.title(\"Correlation of Features\")\n",
    "    plt.show()\n",
    "    \n",
    "plot_correlation_heatmap()    "
   ],
   "id": "e915faa97ce1f3d5",
   "outputs": [],
   "execution_count": null
  },
  {
   "metadata": {},
   "cell_type": "code",
   "source": [
    "#  outlier detection\n",
    "def detect_outliers_iqr(dataframe = df):\n",
    "    outlier_indices = list()\n",
    "    outliers_df = pd.DataFrame()\n",
    "    \n",
    "    for col in df.select_dtypes(include=['float64','int64']).columns:\n",
    "        \n",
    "        Q1 = df[col].quantile(0.25) # first quartile\n",
    "        Q3 = df[col].quantile(0.75) # third quartile\n",
    "        \n",
    "        IQR = Q3 - Q1 # Q3 - Q1\n",
    "        \n",
    "        lower_bound = Q1 - 1.5 * IQR\n",
    "        upper_bound = Q3 + 1.5 * IQR\n",
    "        \n",
    "        outliers_in_col = df[ (df[col] > upper_bound) | (df[col] < lower_bound) ]\n",
    "        outlier_indices.extend(outliers_in_col.index)\n",
    "        \n",
    "        outliers_df = pd.concat([outliers_df, outliers_in_col], axis=0)\n",
    "        \n",
    "    # remove duplicate indices\n",
    "    outlier_indices = list(set(outlier_indices))\n",
    "    \n",
    "    # remove duplicate rows in the outliers dataframe\n",
    "    outliers_df = outliers_df.drop_duplicates()\n",
    "    \n",
    "    return outliers_df , outlier_indices\n",
    "        \n",
    "\n",
    "outliers_df , outlier_indices = detect_outliers_iqr()    "
   ],
   "id": "4b2daddb36603cf9",
   "outputs": [],
   "execution_count": null
  },
  {
   "metadata": {},
   "cell_type": "code",
   "source": [
    "# remove outliers from the dataframe\n",
    "cleaned_df = df.drop(outlier_indices).reset_index(drop=True)\n",
    "cleaned_df.describe()\n"
   ],
   "id": "809d030f6f6bdf7b",
   "outputs": [],
   "execution_count": null
  },
  {
   "metadata": {},
   "cell_type": "code",
   "source": [
    "# train test split\n",
    "X = cleaned_df.drop(['Outcome'],axis=1) # drop outcome column -> axis = 1\n",
    "y = cleaned_df['Outcome']\n",
    "X_train, X_test, y_train, y_test = train_test_split(X, y, test_size=0.25, random_state=42)"
   ],
   "id": "776800c1fa494246",
   "outputs": [],
   "execution_count": null
  },
  {
   "metadata": {},
   "cell_type": "code",
   "source": [
    "# normalization - standardization\n",
    "\n",
    "scaler = StandardScaler()\n",
    "X_train_scaled = scaler.fit_transform(X_train) # features\n",
    "X_test_scaled = scaler.transform(X_test) # X_train -> X_test : scaler has been learned.\n",
    "X_train_scaled\n"
   ],
   "id": "761e2ef5be6f16a7",
   "outputs": [],
   "execution_count": null
  },
  {
   "metadata": {
    "ExecuteTime": {
     "end_time": "2025-01-27T12:36:13.603841Z",
     "start_time": "2025-01-27T12:36:13.587719Z"
    }
   },
   "cell_type": "code",
   "source": [
    "# model training and evaluation\n",
    "\n",
    "def getBasedModel():\n",
    "    basedModels = {'LR' : LogisticRegression(),\n",
    "                   'DT' : DecisionTreeClassifier(),\n",
    "                   'KNN' : KNeighborsClassifier(),\n",
    "                   'NB' : GaussianNB(),\n",
    "                   'SVM' : SVC(),\n",
    "                   'AdaB' : AdaBoostClassifier(),\n",
    "                   'GBM' : GradientBoostingClassifier(),\n",
    "                   'RF' : RandomForestClassifier()}\n",
    "    return basedModels\n",
    "    "
   ],
   "id": "96a94496ccfa0bbc",
   "outputs": [],
   "execution_count": 12
  },
  {
   "metadata": {
    "ExecuteTime": {
     "end_time": "2025-01-27T12:51:54.604188Z",
     "start_time": "2025-01-27T12:51:54.588560Z"
    }
   },
   "cell_type": "code",
   "source": [
    "def baseModelsTraining(models,X_train = X_train, y_train = y_train):\n",
    "    results = list()\n",
    "    \n",
    "    for name, model in models.items():\n",
    "        kfold = KFold(n_splits=10)\n",
    "        cv_results = cross_val_score(model, X_train, y_train, cv=kfold, scoring='accuracy')\n",
    "        results.append(cv_results)\n",
    "        \n",
    "        print(f\"{name}, accuracy : {cv_results.mean()}, std : {cv_results.std()} \")\n",
    "    return results"
   ],
   "id": "3d6e88c767dab5e7",
   "outputs": [],
   "execution_count": 37
  },
  {
   "metadata": {
    "ExecuteTime": {
     "end_time": "2025-01-27T12:59:57.704544Z",
     "start_time": "2025-01-27T12:59:53.941767Z"
    }
   },
   "cell_type": "code",
   "source": [
    "results = baseModelsTraining(getBasedModel())\n",
    "names = list(getBasedModel().keys())\n"
   ],
   "id": "695248b3c7711f9e",
   "outputs": [
    {
     "name": "stdout",
     "output_type": "stream",
     "text": [
      "LR, accuracy : 0.782845744680851, std : 0.06205751329302423 \n",
      "DT, accuracy : 0.6806737588652483, std : 0.05701505735110916 \n",
      "KNN, accuracy : 0.7287677304964539, std : 0.04863639115379103 \n",
      "NB, accuracy : 0.7597960992907802, std : 0.07571110136433304 \n",
      "SVM, accuracy : 0.7598847517730496, std : 0.056216806652984494 \n",
      "AdaB, accuracy : 0.7223847517730497, std : 0.06830501169113913 \n",
      "GBM, accuracy : 0.7411347517730497, std : 0.05677013140310828 \n",
      "RF, accuracy : 0.7661790780141844, std : 0.060220832505851356 \n"
     ]
    }
   ],
   "execution_count": 46
  },
  {
   "metadata": {
    "ExecuteTime": {
     "end_time": "2025-01-27T12:59:57.938934Z",
     "start_time": "2025-01-27T12:59:57.704544Z"
    }
   },
   "cell_type": "code",
   "source": [
    "def plot_box(names = names,results = results):\n",
    "    df = pd.DataFrame({names[i] : results[i] for i in range (len(names))})\n",
    "    \n",
    "    plt.figure(figsize=(12, 8))\n",
    "    sns.boxplot(data=df)\n",
    "    plt.title(\"Model\")\n",
    "    plt.ylabel(\"Accuracy\")\n",
    "    plt.show()\n",
    "    \n",
    "plot_box()    "
   ],
   "id": "ea16e528b2cf3069",
   "outputs": [
    {
     "data": {
      "text/plain": [
       "<Figure size 1200x800 with 1 Axes>"
      ],
      "image/png": "[encoded data removed]"
     },
     "metadata": {},
     "output_type": "display_data"
    }
   ],
   "execution_count": 47
  }
 ],
 "metadata": {
  "kernelspec": {
   "display_name": "Python 3",
   "language": "python",
   "name": "python3"
  },
  "language_info": {
   "codemirror_mode": {
    "name": "ipython",
    "version": 2
   },
   "file_extension": ".py",
   "mimetype": "text/x-python",
   "name": "python",
   "nbconvert_exporter": "python",
   "pygments_lexer": "ipython2",
   "version": "2.7.6"
  }
 },
 "nbformat": 4,
 "nbformat_minor": 5
}
