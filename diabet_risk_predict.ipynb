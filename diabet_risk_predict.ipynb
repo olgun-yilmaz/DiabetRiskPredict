{
 "cells": [
  {
   "cell_type": "code",
   "id": "initial_id",
   "metadata": {
    "collapsed": true,
    "ExecuteTime": {
     "end_time": "2025-01-27T10:10:22.057503Z",
     "start_time": "2025-01-27T10:10:13.906879Z"
    }
   },
   "source": [
    "# import libraries\n",
    "import os\n",
    "\n",
    "import pandas as pd\n",
    "import numpy as np\n",
    "from matplotlib import pyplot as plt\n",
    "import seaborn as sns\n",
    "\n",
    "from sklearn.preprocessing import StandardScaler # veri normalizasyonu\n",
    "\n",
    "from sklearn.model_selection import (train_test_split, # veri setini eğitim ve test olarak ayırmak\n",
    "                                     KFold, # çapraz doğrulama ile performans değerlendirmesi\n",
    "                                     cross_val_score, # KFold ile yapılan süreci basitleştirir \n",
    "                                     GridSearchCV)  # modelin hiperparametrelerini optimize etme\n",
    "\n",
    "from sklearn.metrics import (classification_report, # modelin sınıflandırma başarısını değerlendirme\n",
    "                             confusion_matrix, # model sınıflandırma başarısının görsel analizi\n",
    "                             accuracy_score) # modelin doğruluğunun hesaplanması\n",
    "\n",
    "from sklearn.linear_model import LogisticRegression # ikili sınıfandırma\n",
    "from sklearn.tree import DecisionTreeClassifier # karar ağacı ile sınıflandırma\n",
    "from sklearn.neighbors import KNeighborsClassifier # en yakın komşuyla sınıflandırma\n",
    "from sklearn.naive_bayes import GaussianNB # Naives Bayes ile sınıflandırma\n",
    "from sklearn.svm import SVC # SVM ile sınıflandırma\n",
    "\n",
    "from sklearn.ensemble import AdaBoostClassifier, GradientBoostingClassifier, RandomForestClassifier \n",
    "\n",
    "import warnings\n",
    "warnings.filterwarnings('ignore')"
   ],
   "outputs": [],
   "execution_count": 1
  },
  {
   "metadata": {
    "ExecuteTime": {
     "end_time": "2025-01-27T10:10:24.286613Z",
     "start_time": "2025-01-27T10:10:24.282986Z"
    }
   },
   "cell_type": "code",
   "source": "os.chdir('res')",
   "id": "e05e9f8594f54fa7",
   "outputs": [],
   "execution_count": 2
  },
  {
   "metadata": {},
   "cell_type": "code",
   "outputs": [],
   "execution_count": null,
   "source": "",
   "id": "1369faab5eb0ceff"
  }
 ],
 "metadata": {
  "kernelspec": {
   "display_name": "Python 3",
   "language": "python",
   "name": "python3"
  },
  "language_info": {
   "codemirror_mode": {
    "name": "ipython",
    "version": 2
   },
   "file_extension": ".py",
   "mimetype": "text/x-python",
   "name": "python",
   "nbconvert_exporter": "python",
   "pygments_lexer": "ipython2",
   "version": "2.7.6"
  }
 },
 "nbformat": 4,
 "nbformat_minor": 5
}
